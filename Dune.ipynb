{
 "cells": [
  {
   "cell_type": "code",
   "execution_count": 1,
   "id": "b9e61cff-5a08-49a7-ae60-0ccd72e7d345",
   "metadata": {},
   "outputs": [],
   "source": [
    "#include <dune/common/fvector.hh>"
   ]
  },
  {
   "cell_type": "code",
   "execution_count": 2,
   "id": "95aeff05-0950-4cd8-865a-06bade4b3195",
   "metadata": {},
   "outputs": [],
   "source": [
    "#include <dune/common/fmatrix.hh>"
   ]
  },
  {
   "cell_type": "code",
   "execution_count": 3,
   "id": "b7a0104e-c9c1-46b6-b806-f14030577555",
   "metadata": {},
   "outputs": [],
   "source": [
    "#pragma cling load(\"libdunecommon.so\")"
   ]
  },
  {
   "cell_type": "code",
   "execution_count": 4,
   "id": "9514d214-90d6-4b2c-a212-8664dc547e9a",
   "metadata": {},
   "outputs": [],
   "source": [
    "constexpr int dim = 2;"
   ]
  },
  {
   "cell_type": "code",
   "execution_count": 5,
   "id": "e43774ad-e29a-4d93-bcad-74ff2d98b8a6",
   "metadata": {},
   "outputs": [],
   "source": [
    "Dune::FieldVector<double, dim> x(0);"
   ]
  },
  {
   "cell_type": "code",
   "execution_count": 6,
   "id": "03fb2a3b-4515-4949-acc0-1be1c0dafe97",
   "metadata": {},
   "outputs": [
    {
     "data": {
      "text/plain": [
       "{ 0.0000000, 0.0000000 }"
      ]
     },
     "execution_count": 6,
     "metadata": {},
     "output_type": "execute_result"
    }
   ],
   "source": [
    "x"
   ]
  },
  {
   "cell_type": "code",
   "execution_count": 7,
   "id": "a8bbc55a-8865-4b74-b922-902e2f4894da",
   "metadata": {},
   "outputs": [],
   "source": [
    "Dune::FieldMatrix<double, 4, 4>\n",
    "  A({{1, 0, 0, 0},\n",
    "     {0, 1, 0, 0},\n",
    "     {0, 0, 1, 0},\n",
    "     {0, 0, 0, 1}});"
   ]
  },
  {
   "cell_type": "code",
   "execution_count": 8,
   "id": "af01cb1b-0acc-4191-be1c-1904223a98e9",
   "metadata": {},
   "outputs": [
    {
     "data": {
      "text/plain": [
       "{ { 1.0000000, 0.0000000, 0.0000000, 0.0000000 }, { 0.0000000, 1.0000000, 0.0000000, 0.0000000 }, { 0.0000000, 0.0000000, 1.0000000, 0.0000000 }, { 0.0000000, 0.0000000, 0.0000000, 1.0000000 } }"
      ]
     },
     "execution_count": 8,
     "metadata": {},
     "output_type": "execute_result"
    }
   ],
   "source": [
    "A"
   ]
  },
  {
   "cell_type": "code",
   "execution_count": null,
   "id": "e3083819-162c-4287-aeb7-e55e06f03580",
   "metadata": {},
   "outputs": [],
   "source": []
  }
 ],
 "metadata": {
  "kernelspec": {
   "display_name": "C++17 (xeus)",
   "language": "C++17",
   "name": "xcpp17"
  },
  "language_info": {
   "codemirror_mode": "text/x-c++src",
   "file_extension": ".cpp",
   "mimetype": "text/x-c++src",
   "name": "c++",
   "version": "17"
  }
 },
 "nbformat": 4,
 "nbformat_minor": 5
}
