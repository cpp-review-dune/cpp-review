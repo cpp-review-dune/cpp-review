{
 "cells": [
  {
   "cell_type": "markdown",
   "id": "7b5971d7-69ec-452a-afef-e310203d04b9",
   "metadata": {},
   "source": [
    "https://github.com/jupyter-xeus/xeus-cling/issues/87"
   ]
  },
  {
   "cell_type": "code",
   "execution_count": 1,
   "id": "8e7a7f81-509d-44cb-a8d5-1f1a3b9ad378",
   "metadata": {},
   "outputs": [],
   "source": [
    "#include <iostream>"
   ]
  },
  {
   "cell_type": "code",
   "execution_count": 2,
   "id": "938f5e5d-5d30-4b39-a3f5-cc7a46623afd",
   "metadata": {},
   "outputs": [],
   "source": [
    "int square(int x)\n",
    "{\n",
    "    return x * x;\n",
    "}"
   ]
  },
  {
   "cell_type": "code",
   "execution_count": 3,
   "id": "81f135fc-fca3-4c3e-a2f2-e1ccb3032d36",
   "metadata": {},
   "outputs": [
    {
     "name": "stdout",
     "output_type": "stream",
     "text": [
      "Writing executable to square\n"
     ]
    }
   ],
   "source": [
    "%%executable square\n",
    "std::cout << square(4) << std::endl;"
   ]
  },
  {
   "cell_type": "code",
   "execution_count": 4,
   "id": "6490cac3-8167-42e5-a3ed-9e4cde0b2770",
   "metadata": {},
   "outputs": [
    {
     "name": "stdout",
     "output_type": "stream",
     "text": [
      "LICENSE\n",
      "README.md\n",
      "Test.ipynb\n",
      "square\n"
     ]
    }
   ],
   "source": [
    "!(ls)"
   ]
  },
  {
   "cell_type": "code",
   "execution_count": 5,
   "id": "484782b6-abb7-4f19-bd51-c689baf31ab9",
   "metadata": {},
   "outputs": [
    {
     "name": "stdout",
     "output_type": "stream",
     "text": [
      "16\n"
     ]
    }
   ],
   "source": [
    "!./square"
   ]
  },
  {
   "cell_type": "code",
   "execution_count": 6,
   "id": "4f408865-c82a-41ac-9998-68af241bba97",
   "metadata": {},
   "outputs": [],
   "source": [
    "#include <string>\n",
    "#include <fstream>"
   ]
  },
  {
   "cell_type": "code",
   "execution_count": 7,
   "id": "82a5f7aa-8e37-4d6d-9966-200d93cc96be",
   "metadata": {},
   "outputs": [],
   "source": [
    "#include <nlohmann/json.hpp>"
   ]
  },
  {
   "cell_type": "code",
   "execution_count": 8,
   "id": "3ecd6d7c-e0f9-4ec6-9743-242a44b60eb5",
   "metadata": {},
   "outputs": [],
   "source": [
    "#include <xtl/xbase64.hpp>"
   ]
  },
  {
   "cell_type": "code",
   "execution_count": 9,
   "id": "9634d15d-504e-4664-a1b9-689a0d14d61f",
   "metadata": {},
   "outputs": [],
   "source": [
    "namespace nl = nlohmann;\n",
    "\n",
    "namespace im\n",
    "{\n",
    "    struct image\n",
    "    {\n",
    "        inline image(const std::string& filename)\n",
    "        {\n",
    "            std::ifstream fin(filename, std::ios::binary);\n",
    "            m_buffer << fin.rdbuf();\n",
    "        }\n",
    "\n",
    "        std::stringstream m_buffer;\n",
    "    };\n",
    "\n",
    "    nl::json mime_bundle_repr(const image& i)\n",
    "    {\n",
    "        auto bundle = nl::json::object();\n",
    "        bundle[\"image/png\"] = xtl::base64encode(i.m_buffer.str());\n",
    "        return bundle;\n",
    "    }\n",
    "}"
   ]
  },
  {
   "cell_type": "code",
   "execution_count": 10,
   "id": "2c38bce0-3a8c-47c8-a9d3-2b15c4b42c5a",
   "metadata": {},
   "outputs": [],
   "source": [
    "std::string x = \"Some content\";"
   ]
  },
  {
   "cell_type": "code",
   "execution_count": 11,
   "id": "a8af0b96-d5b6-457d-a64d-70cc71a1c248",
   "metadata": {},
   "outputs": [
    {
     "data": {
      "text/plain": [
       "\"Some content\""
      ]
     },
     "execution_count": 11,
     "metadata": {},
     "output_type": "execute_result"
    }
   ],
   "source": [
    "x"
   ]
  },
  {
   "cell_type": "code",
   "execution_count": 12,
   "id": "6681d8d1-d50b-4209-a6ee-fcb549460f75",
   "metadata": {},
   "outputs": [],
   "source": [
    "#include <xcpp/xdisplay.hpp>"
   ]
  },
  {
   "cell_type": "code",
   "execution_count": 13,
   "id": "89fe8ba6-e662-4a62-abd7-7bdcb1052e25",
   "metadata": {},
   "outputs": [
    {
     "data": {
      "text/plain": [
       "\"Some content\""
      ]
     },
     "metadata": {},
     "output_type": "display_data"
    }
   ],
   "source": [
    "xcpp::display(x)"
   ]
  },
  {
   "cell_type": "code",
   "execution_count": 14,
   "id": "e7e14ac5-16be-4bdc-ae02-78fe97141474",
   "metadata": {},
   "outputs": [
    {
     "data": {
      "text/html": [
       "<style>\n",
       "            #pager-container {\n",
       "                padding: 0;\n",
       "                margin: 0;\n",
       "                width: 100%;\n",
       "                height: 100%;\n",
       "            }\n",
       "            .xcpp-iframe-pager {\n",
       "                padding: 0;\n",
       "                margin: 0;\n",
       "                width: 100%;\n",
       "                height: 100%;\n",
       "                border: none;\n",
       "            }\n",
       "            </style>\n",
       "            <iframe class=\"xcpp-iframe-pager\" src=\"https://en.cppreference.com/w/cpp/container/vector?action=purge\"></iframe>"
      ],
      "text/plain": [
       "https://en.cppreference.com/w/cpp/container/vector"
      ]
     },
     "metadata": {},
     "output_type": "display_data"
    }
   ],
   "source": [
    "?std::vector"
   ]
  },
  {
   "cell_type": "code",
   "execution_count": 15,
   "id": "f8829c26-99bd-4e39-8611-def2a1800a21",
   "metadata": {},
   "outputs": [
    {
     "data": {
      "text/html": [
       "<style>\n",
       "            #pager-container {\n",
       "                padding: 0;\n",
       "                margin: 0;\n",
       "                width: 100%;\n",
       "                height: 100%;\n",
       "            }\n",
       "            .xcpp-iframe-pager {\n",
       "                padding: 0;\n",
       "                margin: 0;\n",
       "                width: 100%;\n",
       "                height: 100%;\n",
       "                border: none;\n",
       "            }\n",
       "            </style>\n",
       "            <iframe class=\"xcpp-iframe-pager\" src=\"https://xtensor.readthedocs.io/en/latest/api/xtensor.html#_CPPv2N2xt7xtensorE?action=purge\"></iframe>"
      ],
      "text/plain": [
       "https://xtensor.readthedocs.io/en/latest/api/xtensor.html#_CPPv2N2xt7xtensorE"
      ]
     },
     "metadata": {},
     "output_type": "display_data"
    }
   ],
   "source": [
    "?xt::xtensor"
   ]
  },
  {
   "cell_type": "code",
   "execution_count": 16,
   "id": "29698c0e-e698-49d8-a7ca-2446f310f6f2",
   "metadata": {},
   "outputs": [],
   "source": [
    "#include <fmt/core.h>"
   ]
  },
  {
   "cell_type": "code",
   "execution_count": 17,
   "id": "f4eaa8a0-e349-4536-80ff-13ac917b8ec8",
   "metadata": {},
   "outputs": [],
   "source": [
    "#pragma cling load(\"libfmt.so\")"
   ]
  },
  {
   "cell_type": "code",
   "execution_count": 18,
   "id": "4f35625f-ed6a-4dcd-870f-5b265e5e399a",
   "metadata": {},
   "outputs": [],
   "source": [
    "fmt::print(\"The answer is {}.\", 42);"
   ]
  },
  {
   "cell_type": "code",
   "execution_count": 19,
   "id": "c41167fe-df5f-41a9-a968-9c78ebdedb97",
   "metadata": {},
   "outputs": [],
   "source": [
    "std::string message = fmt::format(\"The answer is {}.\", 42);"
   ]
  },
  {
   "cell_type": "code",
   "execution_count": 20,
   "id": "b2ce47e5-7072-4ae2-8fcb-31cec43a5b2f",
   "metadata": {},
   "outputs": [
    {
     "data": {
      "text/plain": [
       "\"The answer is 42.\""
      ]
     },
     "execution_count": 20,
     "metadata": {},
     "output_type": "execute_result"
    }
   ],
   "source": [
    "message"
   ]
  },
  {
   "cell_type": "code",
   "execution_count": 21,
   "id": "1fae1c1b-dcda-4200-a610-ecb0c221c336",
   "metadata": {},
   "outputs": [],
   "source": [
    "#include <eigen3/Eigen/Dense>"
   ]
  },
  {
   "cell_type": "code",
   "execution_count": 22,
   "id": "37c4db4c-2604-4fba-bc9b-5a79d55be22f",
   "metadata": {},
   "outputs": [],
   "source": [
    "Eigen::MatrixXd m(2,2);"
   ]
  },
  {
   "cell_type": "code",
   "execution_count": 23,
   "id": "0abb9b91-6f87-414c-84bc-c0242b3d86a4",
   "metadata": {},
   "outputs": [],
   "source": [
    "m(0,0) = 3;\n",
    "m(1,0) = 2.5;\n",
    "m(0,1) = -1;\n",
    "m(1,1) = m(1,0) + m(0,1);"
   ]
  },
  {
   "cell_type": "code",
   "execution_count": 24,
   "id": "7e5895ff-8453-4bb1-be71-c319ca3032e1",
   "metadata": {},
   "outputs": [
    {
     "name": "stdout",
     "output_type": "stream",
     "text": [
      "  3  -1\n",
      "2.5 1.5\n"
     ]
    }
   ],
   "source": [
    "std::cout << m << std::endl;"
   ]
  },
  {
   "cell_type": "code",
   "execution_count": null,
   "id": "e06662a4-1a92-4d3c-b67c-bd3ce4b2b8b8",
   "metadata": {},
   "outputs": [],
   "source": []
  }
 ],
 "metadata": {
  "kernelspec": {
   "display_name": "C++17 (xeus)",
   "language": "C++17",
   "name": "xcpp17"
  },
  "language_info": {
   "codemirror_mode": "text/x-c++src",
   "file_extension": ".cpp",
   "mimetype": "text/x-c++src",
   "name": "c++",
   "version": "17"
  }
 },
 "nbformat": 4,
 "nbformat_minor": 5
}
