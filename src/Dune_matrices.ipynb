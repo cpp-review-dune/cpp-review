{
 "cells": [
  {
   "cell_type": "code",
   "execution_count": 1,
   "id": "b9e61cff-5a08-49a7-ae60-0ccd72e7d345",
   "metadata": {},
   "outputs": [],
   "source": [
    "#include <dune/common/fvector.hh>"
   ]
  },
  {
   "cell_type": "code",
   "execution_count": 2,
   "id": "95aeff05-0950-4cd8-865a-06bade4b3195",
   "metadata": {},
   "outputs": [],
   "source": [
    "#include <dune/common/fmatrix.hh>"
   ]
  },
  {
   "cell_type": "code",
   "execution_count": 3,
   "id": "d100fd7c-6ba9-4e30-b905-933a51a51d53",
   "metadata": {},
   "outputs": [],
   "source": [
    "#include <dune/istl/io.hh>"
   ]
  },
  {
   "cell_type": "code",
   "execution_count": 4,
   "id": "b7a0104e-c9c1-46b6-b806-f14030577555",
   "metadata": {},
   "outputs": [],
   "source": [
    "#pragma cling load(\"libdunecommon.so\")"
   ]
  },
  {
   "cell_type": "code",
   "execution_count": 5,
   "id": "9514d214-90d6-4b2c-a212-8664dc547e9a",
   "metadata": {},
   "outputs": [],
   "source": [
    "constexpr int dim = 2;"
   ]
  },
  {
   "cell_type": "code",
   "execution_count": 6,
   "id": "e43774ad-e29a-4d93-bcad-74ff2d98b8a6",
   "metadata": {},
   "outputs": [],
   "source": [
    "Dune::FieldVector<double, dim> x(0);"
   ]
  },
  {
   "cell_type": "code",
   "execution_count": 7,
   "id": "03fb2a3b-4515-4949-acc0-1be1c0dafe97",
   "metadata": {},
   "outputs": [
    {
     "name": "stdout",
     "output_type": "stream",
     "text": [
      "x [blocks=2,dimension=2]\n",
      "row    0   0.00e+00\n",
      "row    1   0.00e+00\n"
     ]
    }
   ],
   "source": [
    "Dune::printvector(std::cout, x, \"x\", \"row\");"
   ]
  },
  {
   "cell_type": "code",
   "execution_count": 8,
   "id": "df828091-fa2c-49ed-9276-03a5b77c21f9",
   "metadata": {},
   "outputs": [
    {
     "data": {
      "text/plain": [
       "2"
      ]
     },
     "execution_count": 8,
     "metadata": {},
     "output_type": "execute_result"
    }
   ],
   "source": [
    "x.size()"
   ]
  },
  {
   "cell_type": "code",
   "execution_count": 9,
   "id": "706edd02-22e2-4ff0-9cd6-a3e86382bfa6",
   "metadata": {},
   "outputs": [
    {
     "data": {
      "text/plain": [
       "0.0000000"
      ]
     },
     "execution_count": 9,
     "metadata": {},
     "output_type": "execute_result"
    }
   ],
   "source": [
    "x.two_norm()"
   ]
  },
  {
   "cell_type": "code",
   "execution_count": 10,
   "id": "c127ee22-8468-4c43-87d8-d5d66d7ac9d0",
   "metadata": {},
   "outputs": [
    {
     "data": {
      "text/plain": [
       "0.0000000"
      ]
     },
     "execution_count": 10,
     "metadata": {},
     "output_type": "execute_result"
    }
   ],
   "source": [
    "x.infinity_norm()"
   ]
  },
  {
   "cell_type": "code",
   "execution_count": 11,
   "id": "df7b7a08-289f-4efc-81e2-11ad3a570d33",
   "metadata": {},
   "outputs": [
    {
     "data": {
      "text/plain": [
       "2"
      ]
     },
     "execution_count": 11,
     "metadata": {},
     "output_type": "execute_result"
    }
   ],
   "source": [
    "x.dimension"
   ]
  },
  {
   "cell_type": "code",
   "execution_count": 12,
   "id": "a8bbc55a-8865-4b74-b922-902e2f4894da",
   "metadata": {},
   "outputs": [],
   "source": [
    "Dune::FieldMatrix<double, 4, 4>\n",
    "  A({{1, 0, 0, 0},\n",
    "     {0, 1, 0, 0},\n",
    "     {0, 0, 1, 0},\n",
    "     {0, 0, 0, 1}});"
   ]
  },
  {
   "cell_type": "code",
   "execution_count": 13,
   "id": "af01cb1b-0acc-4191-be1c-1904223a98e9",
   "metadata": {},
   "outputs": [
    {
     "name": "stdout",
     "output_type": "stream",
     "text": [
      "Matrix<double, double> [n=4,m=4,rowdim=4,coldim=4]\n",
      "--    0   1.00e+00   0.00e+00   0.00e+00   0.00e+00\n",
      "--    1   0.00e+00   1.00e+00   0.00e+00   0.00e+00\n",
      "--    2   0.00e+00   0.00e+00   1.00e+00   0.00e+00\n",
      "--    3   0.00e+00   0.00e+00   0.00e+00   1.00e+00\n"
     ]
    }
   ],
   "source": [
    "Dune::printmatrix(std::cout, A, \"Matrix<double, double>\", \"--\");"
   ]
  },
  {
   "cell_type": "code",
   "execution_count": 14,
   "id": "e3083819-162c-4287-aeb7-e55e06f03580",
   "metadata": {},
   "outputs": [
    {
     "data": {
      "text/plain": [
       "4"
      ]
     },
     "execution_count": 14,
     "metadata": {},
     "output_type": "execute_result"
    }
   ],
   "source": [
    "A.N()"
   ]
  },
  {
   "cell_type": "code",
   "execution_count": 15,
   "id": "c2f4ec4b-58c3-4700-8b95-36da7c1667d1",
   "metadata": {},
   "outputs": [
    {
     "data": {
      "text/plain": [
       "4"
      ]
     },
     "execution_count": 15,
     "metadata": {},
     "output_type": "execute_result"
    }
   ],
   "source": [
    "A.M()"
   ]
  },
  {
   "cell_type": "code",
   "execution_count": null,
   "id": "2267baf6-aa12-4247-8cab-c303fb87721f",
   "metadata": {},
   "outputs": [],
   "source": []
  }
 ],
 "metadata": {
  "kernelspec": {
   "display_name": "C++17 (xeus)",
   "language": "C++17",
   "name": "xcpp17"
  },
  "language_info": {
   "codemirror_mode": "text/x-c++src",
   "file_extension": ".cpp",
   "mimetype": "text/x-c++src",
   "name": "c++",
   "version": "17"
  }
 },
 "nbformat": 4,
 "nbformat_minor": 5
}
