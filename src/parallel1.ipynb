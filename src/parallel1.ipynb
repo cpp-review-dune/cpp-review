{
 "cells": [
  {
   "cell_type": "markdown",
   "id": "c8ca79eb-c3e7-45c0-a804-79020d10d76f",
   "metadata": {},
   "source": [
    "[An Environment for Interactive Parallel Programming with MPI and OpenMP](https://archive.fosdem.org/2021/schedule/event/interactive_openmp_mpi)\n",
    "\n",
    "[](https://web.corral.tacc.utexas.edu/CompEdu/pdf/pcse/EijkhoutParallelProgramming.pdf)"
   ]
  },
  {
   "cell_type": "markdown",
   "id": "db053d02-974b-4823-ad41-93b3a78bede4",
   "metadata": {},
   "source": [
    "##### [openmp](https://archlinux.org/packages/extra/x86_64/openmp)"
   ]
  },
  {
   "cell_type": "code",
   "execution_count": 1,
   "id": "dab96fc7-4a69-4803-8013-7cde7f3cc014",
   "metadata": {},
   "outputs": [],
   "source": [
    "#include <iostream>"
   ]
  },
  {
   "cell_type": "code",
   "execution_count": 2,
   "id": "48325d28-e394-4e1b-afa5-2f126680615b",
   "metadata": {},
   "outputs": [
    {
     "name": "stdout",
     "output_type": "stream",
     "text": [
      "Test\n"
     ]
    }
   ],
   "source": [
    "std::cout << \"Test\" << std::endl;"
   ]
  },
  {
   "cell_type": "code",
   "execution_count": 3,
   "id": "fdbd906b-76de-4e17-93a8-70dc7c2c0173",
   "metadata": {},
   "outputs": [],
   "source": [
    "#include <omp.h>\n",
    "#pragma cling load(\"/usr/lib/libomp.so\")"
   ]
  },
  {
   "cell_type": "code",
   "execution_count": 4,
   "id": "cb393748-ebed-4d97-b56c-c24197419726",
   "metadata": {},
   "outputs": [],
   "source": [
    "int r = 0;"
   ]
  },
  {
   "cell_type": "code",
   "execution_count": 8,
   "id": "500a4f76-d408-4a15-84d7-1658e8ad0cb5",
   "metadata": {},
   "outputs": [
    {
     "data": {
      "text/plain": [
       "1"
      ]
     },
     "execution_count": 8,
     "metadata": {},
     "output_type": "execute_result"
    }
   ],
   "source": [
    "r = 0;\n",
    "#pragma omp parallel reduction(+:r)\n",
    "{\n",
    "    r += omp_get_num_threads();\n",
    "}\n",
    "r"
   ]
  },
  {
   "cell_type": "code",
   "execution_count": 10,
   "id": "d69dc6ff-025f-4e9c-9064-33819897e41a",
   "metadata": {},
   "outputs": [
    {
     "name": "stdout",
     "output_type": "stream",
     "text": [
      "Hello from single\n",
      "Hello from task 1\n",
      "Hello from task 2\n",
      "Hello after taskwait\n"
     ]
    }
   ],
   "source": [
    "#pragma omp parallel\n",
    "#pragma omp single\n",
    "{\n",
    "    std::cout << \"Hello from single\" << std::endl;\n",
    "\n",
    "    int a;\n",
    "    #pragma omp task depend(out: a)\n",
    "    {\n",
    "        std::cout << \"Hello from task 1\" << std::endl;\n",
    "    }\n",
    "    \n",
    "    {\n",
    "        std::cout << \"Hello from task 2\" << std::endl;\n",
    "    }\n",
    "\n",
    "    #pragma omp taskwait\n",
    "    std::cout << \"Hello after taskwait\" << std::endl;\n",
    "}"
   ]
  },
  {
   "cell_type": "markdown",
   "id": "e592280d-60da-46dc-97e2-575be499b4dc",
   "metadata": {},
   "source": [
    "#### [openmpi](https://archlinux.org/packages/extra/x86_64/openmpi)"
   ]
  }
 ],
 "metadata": {
  "kernelspec": {
   "display_name": "C++17 (xeus)",
   "language": "C++17",
   "name": "xcpp17"
  },
  "language_info": {
   "codemirror_mode": "text/x-c++src",
   "file_extension": ".cpp",
   "mimetype": "text/x-c++src",
   "name": "c++",
   "version": "17"
  }
 },
 "nbformat": 4,
 "nbformat_minor": 5
}
