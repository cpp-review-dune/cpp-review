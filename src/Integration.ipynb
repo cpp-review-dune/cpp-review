{
 "cells": [
  {
   "cell_type": "markdown",
   "id": "f6247ebc-c928-4b20-a4b2-06d095a0e850",
   "metadata": {},
   "source": [
    "First, load the dune shared objects."
   ]
  },
  {
   "cell_type": "code",
   "execution_count": 1,
   "id": "7172eb4c-bab7-43e3-bd8d-e7be65d65d87",
   "metadata": {},
   "outputs": [],
   "source": [
    "#pragma cling load(\"libdunecommon.so\")\n",
    "#pragma cling load(\"libdunegeometry.so\")\n",
    "#pragma cling load(\"libdunegrid.so\")"
   ]
  },
  {
   "cell_type": "code",
   "execution_count": 2,
   "id": "0bf6d992-96e2-4908-81e8-cb8835fa2df7",
   "metadata": {},
   "outputs": [],
   "source": [
    "#include <dune/common/parallel/mpihelper.hh>"
   ]
  },
  {
   "cell_type": "code",
   "execution_count": 3,
   "id": "59d4a515-69f9-48bd-b609-73e08f74b0f0",
   "metadata": {},
   "outputs": [],
   "source": [
    "int argc"
   ]
  },
  {
   "cell_type": "code",
   "execution_count": 4,
   "id": "2014b2af-db41-4024-a2aa-4bf3173bd165",
   "metadata": {},
   "outputs": [],
   "source": [
    "char **argv"
   ]
  },
  {
   "cell_type": "code",
   "execution_count": 5,
   "id": "9d2ee80f-fb94-4714-a580-2526ce46680f",
   "metadata": {},
   "outputs": [],
   "source": [
    "Dune::MPIHelper &helper = Dune::MPIHelper::instance(argc, argv)"
   ]
  },
  {
   "cell_type": "code",
   "execution_count": 6,
   "id": "1d47e542-db15-4941-b3d8-05833f32c859",
   "metadata": {},
   "outputs": [],
   "source": [
    "const int dim = 4"
   ]
  },
  {
   "cell_type": "code",
   "execution_count": 7,
   "id": "9d00e420-5dd6-4541-8691-20dc64d99f37",
   "metadata": {},
   "outputs": [
    {
     "data": {
      "text/plain": [
       "4"
      ]
     },
     "execution_count": 7,
     "metadata": {},
     "output_type": "execute_result"
    }
   ],
   "source": [
    "dim"
   ]
  },
  {
   "cell_type": "code",
   "execution_count": 8,
   "id": "8d9f857c-61f8-4aee-aa52-2a925f4464c1",
   "metadata": {},
   "outputs": [],
   "source": [
    "#include <dune/grid/yaspgrid.hh>"
   ]
  },
  {
   "cell_type": "code",
   "execution_count": 9,
   "id": "bed37e51-3eb2-40a2-ae1e-c207ef4e9a09",
   "metadata": {},
   "outputs": [],
   "source": [
    "using Grid = Dune::YaspGrid<dim>;"
   ]
  },
  {
   "cell_type": "code",
   "execution_count": 10,
   "id": "085eb854-bc73-426f-8cae-6c86142b7edf",
   "metadata": {},
   "outputs": [],
   "source": [
    "Dune::FieldVector<double, dim> len"
   ]
  },
  {
   "cell_type": "code",
   "execution_count": 11,
   "id": "391f7aae-d200-4f5c-93f0-c0763c0f08c6",
   "metadata": {},
   "outputs": [],
   "source": [
    "for (auto &l : len)\n",
    "    l = 1.0;"
   ]
  },
  {
   "cell_type": "code",
   "execution_count": 12,
   "id": "d645886e-12c7-4990-acc1-d330bdc9dea8",
   "metadata": {},
   "outputs": [
    {
     "data": {
      "text/plain": [
       "{ 1.0000000, 1.0000000, 1.0000000, 1.0000000 }"
      ]
     },
     "execution_count": 12,
     "metadata": {},
     "output_type": "execute_result"
    }
   ],
   "source": [
    "len"
   ]
  },
  {
   "cell_type": "code",
   "execution_count": 13,
   "id": "589448bd-22a5-43cf-84fc-54ef80f79da4",
   "metadata": {},
   "outputs": [],
   "source": [
    "std::array<int, dim> cells"
   ]
  },
  {
   "cell_type": "code",
   "execution_count": 14,
   "id": "dbbba770-5c45-44db-b88a-6066b33feb7d",
   "metadata": {},
   "outputs": [
    {
     "data": {
      "text/plain": [
       "{ 0, 0, 0, 0 }"
      ]
     },
     "execution_count": 14,
     "metadata": {},
     "output_type": "execute_result"
    }
   ],
   "source": [
    "cells"
   ]
  },
  {
   "cell_type": "code",
   "execution_count": 15,
   "id": "aa18a768-4b26-408e-9a57-2ef25205ff00",
   "metadata": {},
   "outputs": [],
   "source": [
    "Grid grid(len, cells);"
   ]
  },
  {
   "cell_type": "code",
   "execution_count": 16,
   "id": "c10e6649-6839-4d8b-91e3-8d6162c3c4c4",
   "metadata": {},
   "outputs": [],
   "source": [
    "auto gv = grid.leafGridView();"
   ]
  },
  {
   "cell_type": "code",
   "execution_count": 17,
   "id": "a8f06a58-f43e-4fb0-8588-1fd75cda86f0",
   "metadata": {},
   "outputs": [],
   "source": [
    "auto u = [](const auto &x)\n",
    "  { return std::exp(x.two_norm()); };"
   ]
  },
  {
   "cell_type": "code",
   "execution_count": 18,
   "id": "8ee47acd-f16b-4eef-8f4c-505e5808c856",
   "metadata": {},
   "outputs": [],
   "source": [
    "double integral = 0.0;"
   ]
  },
  {
   "cell_type": "code",
   "execution_count": 19,
   "id": "9179cbca-10f5-44fa-8793-81523c3cb8ac",
   "metadata": {},
   "outputs": [
    {
     "name": "stderr",
     "output_type": "stream",
     "text": [
      "\u001b[1minput_line_30:3:17: \u001b[0m\u001b[0;1;31merror: \u001b[0m\u001b[1mtype '(lambda at input_line_28:2:11)' does not provide a call operator\u001b[0m\n",
      "    integral += u(e.geometry().center()) * e.geometry().volume();\n",
      "\u001b[0;1;32m                ^\n",
      "\u001b[0m"
     ]
    },
    {
     "ename": "Interpreter Error",
     "evalue": "",
     "output_type": "error",
     "traceback": [
      "Interpreter Error: "
     ]
    }
   ],
   "source": [
    "for (const auto &e : elements(gv))\n",
    "    integral += u(e.geometry().center()) * e.geometry().volume();"
   ]
  },
  {
   "cell_type": "code",
   "execution_count": null,
   "id": "bcedf196-0d21-4973-8a67-c67d7db6a9d0",
   "metadata": {},
   "outputs": [],
   "source": []
  },
  {
   "cell_type": "code",
   "execution_count": null,
   "id": "5457469d-563e-4fed-87bb-580215920cb6",
   "metadata": {},
   "outputs": [],
   "source": []
  }
 ],
 "metadata": {
  "kernelspec": {
   "display_name": "C++17 (xeus)",
   "language": "C++17",
   "name": "xcpp17"
  },
  "language_info": {
   "codemirror_mode": "text/x-c++src",
   "file_extension": ".cpp",
   "mimetype": "text/x-c++src",
   "name": "c++",
   "version": "17"
  }
 },
 "nbformat": 4,
 "nbformat_minor": 5
}
