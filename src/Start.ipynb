{
 "cells": [
  {
   "cell_type": "markdown",
   "id": "7b5971d7-69ec-452a-afef-e310203d04b9",
   "metadata": {},
   "source": [
    "# Ejemplos\n",
    "\n",
    "Para usar bibliotecas C++ de terceros siga la siguiente [ayuda](https://github.com/jupyter-xeus/xeus-cling/issues/87)."
   ]
  },
  {
   "cell_type": "code",
   "execution_count": 1,
   "id": "5d43847b-7be1-4136-90a6-1225be6b578c",
   "metadata": {
    "scrolled": true
   },
   "outputs": [
    {
     "name": "stdout",
     "output_type": "stream",
     "text": [
      "Name            : cling\n",
      "Version         : 0.9-5\n",
      "Description     : Interactive C++ interpreter, built on the top of LLVM and Clang libraries\n",
      "Architecture    : x86_64\n",
      "URL             : https://root.cern.ch/cling\n",
      "Licenses        : custom:Cling Release License\n",
      "Groups          : None\n",
      "Provides        : cling\n",
      "Depends On      : libxml2\n",
      "Optional Deps   : perl: support for scan-build, ccc-analyzer and c++-analyzer [installed]\n",
      "                  python: support for scan-view and Jupyter [installed]\n",
      "                  python-pygments: support for opt-viewer [installed]\n",
      "                  python-yaml: support for opt-viewer [installed]\n",
      "Required By     : xeus-cling\n",
      "Optional For    : None\n",
      "Conflicts With  : cling\n",
      "Replaces        : None\n",
      "Installed Size  : 920.69 MiB\n",
      "Packager        : Unknown Packager\n",
      "Build Date      : Tue Aug  8 14:19:10 2023\n",
      "Install Date    : Tue Aug  8 16:14:14 2023\n",
      "Install Reason  : Explicitly installed\n",
      "Install Script  : No\n",
      "Validated By    : None\n",
      "\n"
     ]
    }
   ],
   "source": [
    "!(pacman -Qi cling)"
   ]
  },
  {
   "cell_type": "code",
   "execution_count": 2,
   "id": "8e7a7f81-509d-44cb-a8d5-1f1a3b9ad378",
   "metadata": {},
   "outputs": [],
   "source": [
    "#include <iostream>"
   ]
  },
  {
   "cell_type": "code",
   "execution_count": 3,
   "id": "938f5e5d-5d30-4b39-a3f5-cc7a46623afd",
   "metadata": {},
   "outputs": [],
   "source": [
    "int square(int x)\n",
    "{\n",
    "    return x * x;\n",
    "}"
   ]
  },
  {
   "cell_type": "code",
   "execution_count": 4,
   "id": "81f135fc-fca3-4c3e-a2f2-e1ccb3032d36",
   "metadata": {},
   "outputs": [
    {
     "name": "stdout",
     "output_type": "stream",
     "text": [
      "Writing executable to square\n"
     ]
    }
   ],
   "source": [
    "%%executable square\n",
    "std::cout << square(4) << std::endl;"
   ]
  },
  {
   "cell_type": "code",
   "execution_count": 5,
   "id": "484782b6-abb7-4f19-bd51-c689baf31ab9",
   "metadata": {},
   "outputs": [
    {
     "name": "stdout",
     "output_type": "stream",
     "text": [
      "16\n"
     ]
    }
   ],
   "source": [
    "!(./square)"
   ]
  },
  {
   "cell_type": "code",
   "execution_count": 6,
   "id": "4f408865-c82a-41ac-9998-68af241bba97",
   "metadata": {},
   "outputs": [],
   "source": [
    "#include <string>"
   ]
  },
  {
   "cell_type": "code",
   "execution_count": 7,
   "id": "2c38bce0-3a8c-47c8-a9d3-2b15c4b42c5a",
   "metadata": {},
   "outputs": [],
   "source": [
    "std::string content = \"Some content\";"
   ]
  },
  {
   "cell_type": "code",
   "execution_count": 8,
   "id": "e7e14ac5-16be-4bdc-ae02-78fe97141474",
   "metadata": {},
   "outputs": [
    {
     "data": {
      "text/plain": [
       "\"Some content\""
      ]
     },
     "execution_count": 8,
     "metadata": {},
     "output_type": "execute_result"
    }
   ],
   "source": [
    "content"
   ]
  },
  {
   "cell_type": "code",
   "execution_count": 9,
   "id": "a0ae2520-7b60-4cfc-8cdb-8e85f9ec5904",
   "metadata": {},
   "outputs": [
    {
     "data": {
      "text/html": [
       "<style>\n",
       "            #pager-container {\n",
       "                padding: 0;\n",
       "                margin: 0;\n",
       "                width: 100%;\n",
       "                height: 100%;\n",
       "            }\n",
       "            .xcpp-iframe-pager {\n",
       "                padding: 0;\n",
       "                margin: 0;\n",
       "                width: 100%;\n",
       "                height: 100%;\n",
       "                border: none;\n",
       "            }\n",
       "            </style>\n",
       "            <iframe class=\"xcpp-iframe-pager\" src=\"https://en.cppreference.com/w/cpp/container/vector?action=purge\"></iframe>"
      ],
      "text/plain": [
       "https://en.cppreference.com/w/cpp/container/vector"
      ]
     },
     "metadata": {},
     "output_type": "display_data"
    }
   ],
   "source": [
    "?std::vector"
   ]
  },
  {
   "cell_type": "code",
   "execution_count": 10,
   "id": "f8829c26-99bd-4e39-8611-def2a1800a21",
   "metadata": {},
   "outputs": [
    {
     "data": {
      "text/html": [
       "<style>\n",
       "            #pager-container {\n",
       "                padding: 0;\n",
       "                margin: 0;\n",
       "                width: 100%;\n",
       "                height: 100%;\n",
       "            }\n",
       "            .xcpp-iframe-pager {\n",
       "                padding: 0;\n",
       "                margin: 0;\n",
       "                width: 100%;\n",
       "                height: 100%;\n",
       "                border: none;\n",
       "            }\n",
       "            </style>\n",
       "            <iframe class=\"xcpp-iframe-pager\" src=\"https://xtensor.readthedocs.io/en/latest/api/xtensor.html#_CPPv2N2xt7xtensorE?action=purge\"></iframe>"
      ],
      "text/plain": [
       "https://xtensor.readthedocs.io/en/latest/api/xtensor.html#_CPPv2N2xt7xtensorE"
      ]
     },
     "metadata": {},
     "output_type": "display_data"
    }
   ],
   "source": [
    "?xt::xtensor"
   ]
  },
  {
   "cell_type": "code",
   "execution_count": 12,
   "id": "1fae1c1b-dcda-4200-a610-ecb0c221c336",
   "metadata": {},
   "outputs": [],
   "source": [
    "// #include <eigen3/Eigen/Dense>\n",
    "\n",
    "// Eigen::MatrixXd m(2,2);\n",
    "\n",
    "// m(0,0) = 3;\n",
    "// m(1,0) = 2.5;\n",
    "// m(0,1) = -1;\n",
    "// m(1,1) = m(1,0) + m(0,1);\n",
    "\n",
    "// std::cout << m << std::endl;"
   ]
  }
 ],
 "metadata": {
  "kernelspec": {
   "display_name": "C++17 (xeus)",
   "language": "C++17",
   "name": "xcpp17"
  },
  "language_info": {
   "codemirror_mode": "text/x-c++src",
   "file_extension": ".cpp",
   "mimetype": "text/x-c++src",
   "name": "c++",
   "version": "17"
  }
 },
 "nbformat": 4,
 "nbformat_minor": 5
}
