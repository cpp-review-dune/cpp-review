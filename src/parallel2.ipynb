{
 "cells": [
  {
   "cell_type": "code",
   "execution_count": 1,
   "id": "a301fb09-f8f0-4017-abc9-e53074c3dfa6",
   "metadata": {},
   "outputs": [],
   "source": [
    "#include <stdio.h>"
   ]
  },
  {
   "cell_type": "code",
   "execution_count": 2,
   "id": "9d98a332-1dc7-49d1-ae49-12ca8f0bdddb",
   "metadata": {},
   "outputs": [],
   "source": [
    "#include <mpi.h>"
   ]
  },
  {
   "cell_type": "code",
   "execution_count": 3,
   "id": "c2c16c49-b489-400f-b44e-9c007574e175",
   "metadata": {},
   "outputs": [],
   "source": [
    "void exchange_info() {\n",
    "    int rank, size;\n",
    "    MPI_Comm_rank(MPI_COMM_WORLD, &rank);\n",
    "\n",
    "    int other = 1 - rank;\n",
    "    int data = rank;\n",
    "    MPI_Send(&data, 1, MPI_INT, other, 0, MPI_COMM_WORLD);\n",
    "    MPI_Recv(&data, 1, MPI_INT, other, 0, MPI_COMM_WORLD, MPI_STATUS_IGNORE);\n",
    "\n",
    "    printf(\"rank %d received %d from rank%d\\n\", rank, data, other);\n",
    "}"
   ]
  },
  {
   "cell_type": "code",
   "execution_count": 8,
   "id": "7008a26a-0a2e-43cd-b80a-64d7659f584e",
   "metadata": {},
   "outputs": [
    {
     "name": "stderr",
     "output_type": "stream",
     "text": [
      "Unknown argument: --\n",
      "Nothing parsed, no arguments are available.\n"
     ]
    }
   ],
   "source": [
    "%%executable mpi.x -- -lmpi\n",
    "MPI_Init(NULL, NULL);\n",
    "\n",
    "exchange_info();\n",
    "\n",
    "MPI_Finalize();"
   ]
  },
  {
   "cell_type": "code",
   "execution_count": null,
   "id": "6d37c37d-c45d-4569-a374-b0efeecd0adb",
   "metadata": {},
   "outputs": [],
   "source": []
  }
 ],
 "metadata": {
  "kernelspec": {
   "display_name": "C++17 (xeus)",
   "language": "C++17",
   "name": "xcpp17"
  },
  "language_info": {
   "codemirror_mode": "text/x-c++src",
   "file_extension": ".cpp",
   "mimetype": "text/x-c++src",
   "name": "c++",
   "version": "17"
  }
 },
 "nbformat": 4,
 "nbformat_minor": 5
}
