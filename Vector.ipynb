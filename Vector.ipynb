{
 "cells": [
  {
   "cell_type": "code",
   "execution_count": 1,
   "id": "e83a11e7-5b0b-4f92-81ba-f7c2b6f9875e",
   "metadata": {},
   "outputs": [],
   "source": [
    "#include <iostream>"
   ]
  },
  {
   "cell_type": "code",
   "execution_count": 2,
   "id": "118eb587-7775-4150-976a-a8177304923f",
   "metadata": {},
   "outputs": [],
   "source": [
    "#include <fmt/core.h>"
   ]
  },
  {
   "cell_type": "code",
   "execution_count": 3,
   "id": "b25b7ada-301d-46e5-bda7-0b08efab0a9f",
   "metadata": {},
   "outputs": [],
   "source": [
    "#pragma cling load(\"libfmt.so\")"
   ]
  },
  {
   "cell_type": "code",
   "execution_count": 4,
   "id": "80728a22-152f-4dab-98b4-8441a04a2616",
   "metadata": {},
   "outputs": [],
   "source": [
    "std::string message = fmt::format(\"The answer is {}.\", 42);"
   ]
  },
  {
   "cell_type": "code",
   "execution_count": 5,
   "id": "66b0937f-4f58-4e6b-b28d-3bd4f304d8e1",
   "metadata": {},
   "outputs": [
    {
     "data": {
      "text/plain": [
       "\"The answer is 42.\""
      ]
     },
     "execution_count": 5,
     "metadata": {},
     "output_type": "execute_result"
    }
   ],
   "source": [
    "message"
   ]
  },
  {
   "cell_type": "code",
   "execution_count": 6,
   "id": "358c9edb-e3c6-47b4-b5f8-bbabde43954a",
   "metadata": {},
   "outputs": [],
   "source": [
    "#include <vector>"
   ]
  },
  {
   "cell_type": "code",
   "execution_count": 7,
   "id": "9a1e35a0-90c5-4af0-998c-060e7b1633c3",
   "metadata": {},
   "outputs": [],
   "source": [
    "auto v = std::vector<float>{1.0, 2.0, 3.0, 4.0, 5.0, 6.0, 7.0};"
   ]
  },
  {
   "cell_type": "code",
   "execution_count": 8,
   "id": "f88f1459-010c-491e-a4ef-0bbf6a2e47bb",
   "metadata": {},
   "outputs": [
    {
     "name": "stdout",
     "output_type": "stream",
     "text": [
      "1\n",
      "2\n",
      "3\n",
      "4\n",
      "5\n",
      "6\n",
      "7\n"
     ]
    }
   ],
   "source": [
    "for (const auto &e : v)\n",
    "{\n",
    "    std::cout << e << std::endl;\n",
    "}"
   ]
  }
 ],
 "metadata": {
  "kernelspec": {
   "display_name": "C++17 (xeus)",
   "language": "C++17",
   "name": "xcpp17"
  },
  "language_info": {
   "codemirror_mode": "text/x-c++src",
   "file_extension": ".cpp",
   "mimetype": "text/x-c++src",
   "name": "c++",
   "version": "17"
  }
 },
 "nbformat": 4,
 "nbformat_minor": 5
}
